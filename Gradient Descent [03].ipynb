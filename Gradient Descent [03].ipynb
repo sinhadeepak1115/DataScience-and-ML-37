{
 "cells": [
  {
   "cell_type": "code",
   "execution_count": null,
   "id": "7afa316d",
   "metadata": {},
   "outputs": [],
   "source": []
  }
 ],
 "metadata": {
  "kernelspec": {
   "display_name": "Python 3.9.7 64-bit ('base': conda)",
   "language": "python",
   "name": "python397jvsc74a57bd081f4bff77b242708306244f65b339fa06bfe7c3a0d13b1f77d0e9d6e269672bc"
  },
  "language_info": {
   "codemirror_mode": {
    "name": "ipython",
    "version": 3
   },
   "file_extension": ".py",
   "mimetype": "text/x-python",
   "name": "python",
   "nbconvert_exporter": "python",
   "pygments_lexer": "ipython3",
   "version": "3.9.7"
  }
 },
 "nbformat": 4,
 "nbformat_minor": 5
}
